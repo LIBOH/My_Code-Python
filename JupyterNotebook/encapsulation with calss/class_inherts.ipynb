{
 "cells": [
  {
   "cell_type": "code",
   "execution_count": 2,
   "outputs": [],
   "source": [
    "from typing import Optional"
   ],
   "metadata": {
    "collapsed": false,
    "pycharm": {
     "name": "#%%\n"
    }
   }
  },
  {
   "cell_type": "code",
   "execution_count": 3,
   "outputs": [],
   "source": [
    "class Product:\n",
    "    def __init__(self, name: str, price: float) -> None:\n",
    "        self.name = name\n",
    "        self.price = price"
   ],
   "metadata": {
    "collapsed": false,
    "pycharm": {
     "name": "#%%\n"
    }
   }
  },
  {
   "cell_type": "code",
   "execution_count": 30,
   "outputs": [
    {
     "name": "stdout",
     "output_type": "stream",
     "text": [
      "                   名称                            价格         \n",
      "____________________________________________________________\n",
      "Apple is a super good fruit                             45.3\n",
      "------------------------------------------------------------\n",
      "Pear is qjdl;asmdpw..asdnwuaosdnlawioask                18.5\n",
      "------------------------------------------------------------\n",
      "                                                 Total: 63.8\n"
     ]
    }
   ],
   "source": [
    "def generate_report(\n",
    "        products: list[Product],\n",
    "        name_list_length: Optional[int] = 40,\n",
    "        price_length: Optional[int] = 10\n",
    ") -> None:\n",
    "    total_length = name_list_length + price_length\n",
    "\n",
    "    # 1.输出头部\n",
    "    header = f\"{'名称': ^{name_list_length}}{'价格': ^{price_length}}\"\n",
    "    header_spliter = '_' * total_length\n",
    "    print(header)\n",
    "    print(header_spliter)\n",
    "\n",
    "    # 2.输出列表主题\n",
    "    for product in products:\n",
    "        half_text_width = int(name_list_length / 2 - 1)\n",
    "        name_length = len(product.name)\n",
    "        left_text = product.name[:half_text_width]\n",
    "        right_text = product.name[-half_text_width:]\n",
    "        name = f'{left_text}..{right_text}' \\\n",
    "            if name_length > name_list_length else product.name\n",
    "        price = str(product.price)\n",
    "        print(f'{name: <{name_list_length}}{price: >{price_length}}')\n",
    "        line_spliter = '-' * total_length\n",
    "        print(line_spliter)\n",
    "\n",
    "    # 3.输出预计结果\n",
    "    sumerize_price = sum([product.price for product in products])\n",
    "    total_price = f'Total: {sumerize_price}'\n",
    "    print(f'{total_price:>{total_length}}')\n",
    "\n",
    "\n",
    "data = (\n",
    "    {'name': 'Apple is a super good fruit',\n",
    "     'price': 45.3},\n",
    "    {'name': 'Pear is qjdl;asmdpwjasldjwhasdnwuaosdnlawioask',\n",
    "     'price': 18.5},\n",
    ")\n",
    "\n",
    "products = [Product(**item) for item in data]\n",
    "generate_report(products, price_length=20)"
   ],
   "metadata": {
    "collapsed": false,
    "pycharm": {
     "name": "#%%\n"
    }
   }
  },
  {
   "cell_type": "code",
   "execution_count": 4,
   "outputs": [
    {
     "name": "stdout",
     "output_type": "stream",
     "text": [
      "                            NAME                            PRICE\n",
      "_________________________________________________________________\n",
      "Apple is a super good fruit                                  45.3\n",
      "-----------------------------------------------------------------\n",
      "Pear is qjdl;asmdpwj..addsadaaosdnlawioask                   18.5\n",
      "-----------------------------------------------------------------\n",
      "Orange is a super delicious fruit                            23.3\n",
      "-----------------------------------------------------------------\n",
      "                                                     Total:  87.1\n"
     ]
    }
   ],
   "source": [
    "class ProcuctReporter:\n",
    "    NAME_LIST_LENGTH = 60\n",
    "    PRICE_LENGTH = 5\n",
    "    COL_NAME = 'NAME'\n",
    "    COL_PRICE = 'PRICE'\n",
    "    HEADER_SPLITER_CHARACTER = '_'\n",
    "    LINE_SPLITER_CHARACTER = '-'\n",
    "\n",
    "    def __init__(self,\n",
    "                 products: list[Product],\n",
    "                 name_list_length: Optional[int] = NAME_LIST_LENGTH,\n",
    "                 price_length: Optional[int] = PRICE_LENGTH,\n",
    "                 col_name: Optional[str] = COL_NAME,\n",
    "                 col_price: Optional[str] = COL_PRICE,\n",
    "                 header_spliter_character: Optional[str] = HEADER_SPLITER_CHARACTER,\n",
    "                 line_spliter_character: Optional[str] = LINE_SPLITER_CHARACTER):\n",
    "        self.products = products\n",
    "        self.name_list_length = name_list_length\n",
    "        self.price_length = price_length\n",
    "        self.col_name = col_name\n",
    "        self.col_price = col_price\n",
    "        self.header_spliter_character = header_spliter_character\n",
    "        self.line_spliter_character = line_spliter_character\n",
    "\n",
    "    def _get_header(self) -> str:\n",
    "        return f'{self.col_name: ^{self.name_list_length}}' \\\n",
    "               f'{self.col_price: ^{self.price_length}}'\n",
    "\n",
    "    def _get_header_spliter(self) -> str:\n",
    "        size = self.name_list_length + self.price_length\n",
    "        return self.header_spliter_character * size\n",
    "\n",
    "    def _output_header(self) -> None:\n",
    "        # 获取标题内容\n",
    "        header = self._get_header()\n",
    "        print(header)\n",
    "        # 获取分割线\n",
    "        spliter = self._get_header_spliter()\n",
    "        print(spliter)\n",
    "\n",
    "    def _handle_product_name(self, product: Product) -> str:\n",
    "        name_length = len(product.name)\n",
    "        half_length = int(name_length / 3 - 1)\n",
    "\n",
    "        left_text = product.name[:half_length]\n",
    "        right_text = product.name[-half_length:]\n",
    "\n",
    "        name = f'{left_text}..{right_text}' \\\n",
    "            if name_length > self.name_list_length else product.name\n",
    "        return name\n",
    "\n",
    "    def _handle_product_price(self, product: Product) -> str:\n",
    "        return str(product.price)\n",
    "\n",
    "    def _get_line_item(self, name: str, price: str) -> str:\n",
    "        return f'{name: <{self.name_list_length}}{price: >{self.price_length}}'\n",
    "\n",
    "    def _get_line_spliter(self) -> str:\n",
    "        size = self.name_list_length + self.price_length\n",
    "        return self.line_spliter_character * size\n",
    "\n",
    "    def _output_line_item(self, name: str, price: str) -> None:\n",
    "        # 1.获取每行的输出内容\n",
    "        line_item = self._get_line_item(name, price)\n",
    "        print(line_item)\n",
    "        # 2.获取分隔符\n",
    "        spliter = self._get_line_spliter()\n",
    "        print(spliter)\n",
    "\n",
    "    def _output_list_item(self) -> None:\n",
    "        for product in self.products:\n",
    "            # 1.处理名称，控制字符在40（或规定长度），按照规则处理\n",
    "            name = self._handle_product_name(product)\n",
    "            # 2.处理价格\n",
    "            price = self._handle_product_price(product)\n",
    "            # 3. 输出\n",
    "            self._output_line_item(name, price)\n",
    "\n",
    "    def _get_total_price(self) -> float:\n",
    "        return sum([product.price for product in self.products])\n",
    "\n",
    "    def _get_sumerize(self, total_price: str) -> str:\n",
    "        return f'Total: {total_price:>{self.price_length}}'\n",
    "\n",
    "    def _output_sumerize(self) -> None:\n",
    "        # 1.获取总价\n",
    "        total_price = self._get_total_price()\n",
    "        # 2.产生输出内容字符串\n",
    "        sumerize_content = self._get_sumerize(total_price)\n",
    "        # 3.输出\n",
    "        total_length = self.name_list_length + self.price_length\n",
    "        print(f'{sumerize_content:>{total_length}}')\n",
    "\n",
    "    def report(self):\n",
    "        # 1.输出头部\n",
    "        self._output_header()\n",
    "        # 2.输出列表主题\n",
    "        self._output_list_item()\n",
    "        # 3.输出统计部分\n",
    "        self._output_sumerize()\n",
    "\n",
    "\n",
    "data = (\n",
    "    {'name': 'Apple is a super good fruit',\n",
    "     'price': 45.3},\n",
    "    {'name': 'Pear is qjdl;asmdpwjasldsdsadsadasdjwsdadadsaddsadaaosdnlawioask',\n",
    "     'price': 18.5},\n",
    "    {'name': 'Orange is a super delicious fruit',\n",
    "     'price': 23.3}\n",
    ")\n",
    "\n",
    "products = [Product(**item) for item in data]\n",
    "repoter = ProcuctReporter(products)\n",
    "repoter.report()"
   ],
   "metadata": {
    "collapsed": false,
    "pycharm": {
     "name": "#%%\n"
    }
   }
  }
 ],
 "metadata": {
  "kernelspec": {
   "display_name": "Python 3",
   "language": "python",
   "name": "python3"
  },
  "language_info": {
   "codemirror_mode": {
    "name": "ipython",
    "version": 2
   },
   "file_extension": ".py",
   "mimetype": "text/x-python",
   "name": "python",
   "nbconvert_exporter": "python",
   "pygments_lexer": "ipython2",
   "version": "2.7.6"
  }
 },
 "nbformat": 4,
 "nbformat_minor": 0
}